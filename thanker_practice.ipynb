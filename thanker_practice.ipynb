{
 "cells": [
  {
   "cell_type": "code",
   "execution_count": 1,
   "id": "40c544e5-6e20-4b14-8bd1-048f28a03d2f",
   "metadata": {},
   "outputs": [],
   "source": [
    "from tkinter import *\n",
    "from PIL import ImageTk,Image"
   ]
  },
  {
   "cell_type": "code",
   "execution_count": 7,
   "id": "412c423f-56ec-4827-bb20-ed89277f9ccf",
   "metadata": {},
   "outputs": [
    {
     "ename": "NameError",
     "evalue": "name 'tk' is not defined",
     "output_type": "error",
     "traceback": [
      "\u001b[0;31m---------------------------------------------------------------------------\u001b[0m",
      "\u001b[0;31mNameError\u001b[0m                                 Traceback (most recent call last)",
      "Cell \u001b[0;32mIn[7], line 19\u001b[0m\n\u001b[1;32m     16\u001b[0m email_input \u001b[38;5;241m=\u001b[39m Entry(root)\n\u001b[1;32m     17\u001b[0m email_input\u001b[38;5;241m.\u001b[39mpack()\n\u001b[0;32m---> 19\u001b[0m button \u001b[38;5;241m=\u001b[39m tk\u001b[38;5;241m.\u001b[39mButton(root, text\u001b[38;5;241m=\u001b[39m\u001b[38;5;124m\"\u001b[39m\u001b[38;5;124mClick Me\u001b[39m\u001b[38;5;124m\"\u001b[39m, command\u001b[38;5;241m=\u001b[39m\u001b[38;5;28;01mlambda\u001b[39;00m: \u001b[38;5;28mprint\u001b[39m(\u001b[38;5;124m\"\u001b[39m\u001b[38;5;124mButton Clicked\u001b[39m\u001b[38;5;124m\"\u001b[39m))\n\u001b[1;32m     20\u001b[0m button\u001b[38;5;241m.\u001b[39mpack( padx\u001b[38;5;241m=\u001b[39m\u001b[38;5;241m10\u001b[39m, pady\u001b[38;5;241m=\u001b[39m\u001b[38;5;241m10\u001b[39m)\n\u001b[1;32m     22\u001b[0m buttonFram \u001b[38;5;241m=\u001b[39m tk\u001b[38;5;241m.\u001b[39mFrame(root)\n",
      "\u001b[0;31mNameError\u001b[0m: name 'tk' is not defined"
     ]
    }
   ],
   "source": [
    "root = Tk()\n",
    "root.title(\"login form \")\n",
    "#root.minsize(200,300)\n",
    "#root.maxsize(400,400)\n",
    "\n",
    "root.geometry('500x500')\n",
    "\n",
    "text_label = Label(root,text = 'flipkart',fg='white',bg=\"blue\")\n",
    "text_label.pack()\n",
    "text_label.config(font=(\"verdana\",24))\n",
    "\n",
    "text_email = Label(root,text = 'email',fg='white',bg=\"blue\")\n",
    "text_email.pack()\n",
    "text_email.config(font=(\"verdana\",24))\n",
    "\n",
    "email_input = Entry(root)\n",
    "email_input.pack()\n",
    "\n",
    "\n",
    "#img = ImageTk.PhotoImage(Image.open('ahmad.jpeg'))\n",
    "#img_label = Label(root,Image=img)\n",
    "#img_label.pack()\n",
    "\n",
    "\n",
    "root.configure(background='blue')\n",
    "root.mainloop()"
   ]
  },
  {
   "cell_type": "code",
   "execution_count": null,
   "id": "f9b24706-0764-418a-b5c1-fa966f0f96d2",
   "metadata": {},
   "outputs": [],
   "source": []
  },
  {
   "cell_type": "code",
   "execution_count": null,
   "id": "aa7a18a0-8ed5-4776-a920-340db2cd8279",
   "metadata": {},
   "outputs": [],
   "source": []
  }
 ],
 "metadata": {
  "kernelspec": {
   "display_name": "Python 3 (ipykernel)",
   "language": "python",
   "name": "python3"
  },
  "language_info": {
   "codemirror_mode": {
    "name": "ipython",
    "version": 3
   },
   "file_extension": ".py",
   "mimetype": "text/x-python",
   "name": "python",
   "nbconvert_exporter": "python",
   "pygments_lexer": "ipython3",
   "version": "3.11.7"
  }
 },
 "nbformat": 4,
 "nbformat_minor": 5
}
